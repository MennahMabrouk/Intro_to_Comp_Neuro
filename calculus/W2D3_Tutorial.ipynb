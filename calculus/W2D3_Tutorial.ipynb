{
  "cells": [
    {
      "cell_type": "markdown",
      "metadata": {
        "execution": {},
        "id": "okLKkmlc6NeX"
      },
      "source": [
        "# Tutorial : Differentiation and Integration\n",
        "**Week 2, Day 3: Calculus**\n",
        "\n",
        "**This tutorial is taken from Neuromatch Academy**\n",
        "\n",
        "The original code can be found in the following link:(https://colab.research.google.com/github/NeuromatchAcademy/precourse/blob/main/tutorials/W0D4_Calculus/student/W0D4_Tutorial1.ipynb)\n",
        "\n",
        "__Content creators:__ John S Butler, Arvind Kumar with help from Ella Batty\n",
        "\n",
        "__Content reviewers:__  Aderogba Bayo, Tessy Tom, Matt McCann\n",
        "\n",
        "__Production editors:__ Matthew McCann, Ella Batty"
      ]
    },
    {
      "cell_type": "markdown",
      "metadata": {
        "execution": {},
        "id": "tqapn6HL6Ner"
      },
      "source": [
        "**Our 2022 Sponsor:**\n",
        "\n",
        "<p align=><img src='data:image/png;base64,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'/></p>"
      ]
    },
    {
      "cell_type": "markdown",
      "metadata": {
        "execution": {},
        "id": "FMQ6B9GY6Ney"
      },
      "source": [
        "---\n",
        "# Tutorial Objectives\n",
        "\n",
        "*Estimated timing of tutorial: 80 minutes*\n",
        "\n",
        "In this tutorial, we will cover aspects of calculus that will be frequently used in the main NMA course. We assume that you  have some familiarty with calculus, but may be a bit rusty or may not have done much practice.  Specifically the objectives of this tutorial are\n",
        "\n",
        "*   Get an intuitive understanding of derivative and integration operations\n",
        "*   Learn to calculate the derivatives of 1- and 2-dimensional functions/signals numerically\n",
        "*   Familiarize with the concept of neuron transfer function in 1- and 2-dimensions.\n",
        "*   Familiarize with the idea of numerical integration using Riemann sum\n",
        "\n",
        "\n"
      ]
    },
    {
      "cell_type": "markdown",
      "source": [
        "\n",
        "  If you want a vedio explanation of (Why do we care about calculus?) from Neuromarch academy , check this link : (https://youtube.com/watch?v=NZwfH_dG2wI)"
      ],
      "metadata": {
        "id": "bEsu36Yb6Ne2"
      }
    },
    {
      "cell_type": "markdown",
      "metadata": {
        "execution": {},
        "id": "1e44XYsY6NfC"
      },
      "source": [
        "---\n",
        "# Setup"
      ]
    },
    {
      "cell_type": "code",
      "source": [
        ""
      ],
      "metadata": {
        "id": "y7ZTSyvGF0zi"
      },
      "execution_count": null,
      "outputs": []
    },
    {
      "cell_type": "code",
      "execution_count": null,
      "metadata": {
        "cellView": "form",
        "execution": {},
        "id": "3ZmPeKd_6NfF"
      },
      "outputs": [],
      "source": [
        "# @title Install dependencies\n",
        "!pip install sympy --quiet"
      ]
    },
    {
      "cell_type": "code",
      "execution_count": null,
      "metadata": {
        "execution": {},
        "id": "nJeuEGit6NfL"
      },
      "outputs": [],
      "source": [
        "# Imports\n",
        "\n",
        "import numpy as np\n",
        "import scipy.optimize as opt  # import root-finding algorithm\n",
        "import sympy as sp  # Python toolbox for symbolic maths\n",
        "import matplotlib.pyplot as plt\n",
        "from mpl_toolkits.mplot3d import Axes3D  # Toolbox for rendring 3D figures\n",
        "from mpl_toolkits import mplot3d  # Toolbox for rendring 3D figures"
      ]
    },
    {
      "cell_type": "code",
      "execution_count": null,
      "metadata": {
        "cellView": "form",
        "execution": {},
        "id": "9utesqoR6NfU"
      },
      "outputs": [],
      "source": [
        "# @title Figure Settings\n",
        "import ipywidgets as widgets  # interactive display\n",
        "from ipywidgets import interact\n",
        "%config InlineBackend.figure_format = 'retina'\n",
        "# use NMA plot style\n",
        "plt.style.use(\"https://raw.githubusercontent.com/NeuromatchAcademy/content-creation/main/nma.mplstyle\")\n",
        "my_layout = widgets.Layout()\n",
        "\n",
        "fig_w, fig_h = 12, 4.5\n",
        "my_fontsize = 16\n",
        "my_params = {'axes.labelsize': my_fontsize,\n",
        "          'axes.titlesize': my_fontsize,\n",
        "          'figure.figsize': [fig_w, fig_h],\n",
        "          'font.size': my_fontsize,\n",
        "          'legend.fontsize': my_fontsize-4,\n",
        "          'lines.markersize': 8.,\n",
        "          'lines.linewidth': 2.,\n",
        "          'xtick.labelsize': my_fontsize-2,\n",
        "          'ytick.labelsize': my_fontsize-2}\n",
        "\n",
        "plt.rcParams.update(my_params)"
      ]
    },
    {
      "cell_type": "code",
      "execution_count": null,
      "metadata": {
        "cellView": "form",
        "execution": {},
        "id": "jJAWIdqr6NfY"
      },
      "outputs": [],
      "source": [
        "# @title Plotting Functions\n",
        "def move_sympyplot_to_axes(p, ax):\n",
        "    backend = p.backend(p)\n",
        "    backend.ax = ax\n",
        "    backend.process_series()\n",
        "    backend.ax.spines['right'].set_color('none')\n",
        "    backend.ax.spines['bottom'].set_position('zero')\n",
        "    backend.ax.spines['top'].set_color('none')\n",
        "    plt.close(backend.fig)\n",
        "\n",
        "\n",
        "def plot_functions(function, show_derivative, show_integral):\n",
        "\n",
        "  # For sympy we first define our symbolic variable\n",
        "  x, y, z, t, f = sp.symbols('x y z t f')\n",
        "\n",
        "  # We define our function\n",
        "  if function == 'Linear':\n",
        "    f = -2*t\n",
        "    name = r'$-2t$'\n",
        "  elif function == 'Parabolic':\n",
        "    f =  t**2\n",
        "    name = r'$t^2$'\n",
        "  elif function == 'Exponential':\n",
        "    f =  sp.exp(t)\n",
        "    name = r'$e^t$'\n",
        "  elif function == 'Sine':\n",
        "    f =  sp.sin(t)\n",
        "    name = r'$sin(t)$'\n",
        "  elif function == 'Sigmoid':\n",
        "    f = 1/(1 + sp.exp(-(t-5)))\n",
        "    name = r'$\\frac{1}{1+e^{-(t-5)}}$'\n",
        "\n",
        "  if show_derivative and not show_integral:\n",
        "    # Calculate the derivative of sin(t) as a function of t\n",
        "    diff_f = sp.diff(f)\n",
        "    print('Derivative of', f, 'is ', diff_f)\n",
        "\n",
        "    p1 = sp.plot(f, diff_f, show=False)\n",
        "    p1[0].line_color='r'\n",
        "    p1[1].line_color='b'\n",
        "    p1[0].label='Function'\n",
        "    p1[1].label='Derivative'\n",
        "    p1.legend=True\n",
        "    p1.title = 'Function = ' + name + '\\n'\n",
        "    p1.show()\n",
        "  elif show_integral and not show_derivative:\n",
        "\n",
        "    int_f = sp.integrate(f)\n",
        "    int_f = int_f - int_f.subs(t, -10)\n",
        "    print('Integral of', f, 'is ', int_f)\n",
        "\n",
        "\n",
        "    p1 = sp.plot(f, int_f, show=False)\n",
        "    p1[0].line_color='r'\n",
        "    p1[1].line_color='g'\n",
        "    p1[0].label='Function'\n",
        "    p1[1].label='Integral'\n",
        "    p1.legend=True\n",
        "    p1.title = 'Function = ' + name + '\\n'\n",
        "    p1.show()\n",
        "\n",
        "\n",
        "  elif show_integral and show_derivative:\n",
        "\n",
        "    diff_f = sp.diff(f)\n",
        "    print('Derivative of', f, 'is ', diff_f)\n",
        "\n",
        "    int_f = sp.integrate(f)\n",
        "    int_f = int_f - int_f.subs(t, -10)\n",
        "    print('Integral of', f, 'is ', int_f)\n",
        "\n",
        "    p1 = sp.plot(f, diff_f, int_f, show=False)\n",
        "    p1[0].line_color='r'\n",
        "    p1[1].line_color='b'\n",
        "    p1[2].line_color='g'\n",
        "    p1[0].label='Function'\n",
        "    p1[1].label='Derivative'\n",
        "    p1[2].label='Integral'\n",
        "    p1.legend=True\n",
        "    p1.title = 'Function = ' + name + '\\n'\n",
        "    p1.show()\n",
        "\n",
        "  else:\n",
        "\n",
        "    p1 = sp.plot(f, show=False)\n",
        "    p1[0].line_color='r'\n",
        "    p1[0].label='Function'\n",
        "    p1.legend=True\n",
        "    p1.title = 'Function = ' + name + '\\n'\n",
        "    p1.show()\n",
        "\n",
        "\n",
        "def plot_alpha_func(t, f, df_dt):\n",
        "\n",
        "  plt.figure()\n",
        "  plt.subplot(2,1,1)\n",
        "  plt.plot(t, f, 'r', label='Alpha function')\n",
        "  plt.xlabel('Time (au)')\n",
        "  plt.ylabel('Voltage')\n",
        "  plt.title('Alpha function (f(t))')\n",
        "  #plt.legend()\n",
        "\n",
        "  plt.subplot(2,1,2)\n",
        "  plt.plot(t, df_dt, 'b', label='Derivative')\n",
        "  plt.title('Derivative of alpha function')\n",
        "  plt.xlabel('Time (au)')\n",
        "  plt.ylabel('df/dt')\n",
        "  #plt.legend()\n",
        "\n",
        "\n",
        "def plot_charge_transfer(t, PSP, numerical_integral):\n",
        "\n",
        "  fig, axes = plt.subplots(1, 2)\n",
        "\n",
        "  axes[0].plot(t, PSP)\n",
        "  axes[0].set(xlabel = 't', ylabel = 'PSP')\n",
        "\n",
        "  axes[1].plot(t, numerical_integral)\n",
        "  axes[1].set(xlabel = 't', ylabel = 'Charge Transferred')"
      ]
    },
    {
      "cell_type": "markdown",
      "metadata": {
        "execution": {},
        "id": "Ti8TJf4C6Nfl"
      },
      "source": [
        "---\n",
        "# Section 1: What is differentiation and integration?\n"
      ]
    },
    {
      "cell_type": "markdown",
      "source": [
        "If you want a vedio explanation of (A geometrical interpretation of differentiation and integration) from Neuromatch Academy ,check this link:(https://youtube.com/watch?v=uQjwr9RQaEs)"
      ],
      "metadata": {
        "id": "rt9HAgxo6Nfm"
      }
    },
    {
      "cell_type": "markdown",
      "metadata": {
        "execution": {},
        "id": "-bUM50DN6Nfr"
      },
      "source": [
        "This video covers the definition of differentiation and integration, highlights the geometrical interpretation of each, and introduces the idea of eigenfunctions.\n",
        "\n",
        "<details>\n",
        "<summary> <font color='blue'>Click here for text recap of video </font></summary>\n",
        "\n",
        "Calculus is a part of mathematics concerned with **continous change**. There are two branches of calculus: differential calculus and integral calculus. \n",
        "\n",
        "Differentiation of a function $f(t)$ gives you the derivative of that function $\\frac{d(f(t))}{dt}$. A derivative captures how sensitive a function is to slight changes in the input for different ranges of inputs. Geometrically, the derivative of a function at a certain input is the slope of the function at that input. For example, as you drive, the distance traveled changes continuously with time. The derivative of the distance traveled with respect to time is the velocity of the vehicle at each point in time. The velocity tells you the rate of change of the distance traveled at different points in time. If you have slow velocity (a small derivative), the distance traveled doesn't change much for small changes in time. A high velocity (big derivative) means that the distance traveled changes a lot for small changes in time.\n",
        "\n",
        "The sign of the derivative of a function (or signal) tells whether the signal is increasing or decreasing. For a signal going through changes as a function of time, the derivative will become zero when the signal changes its direction of change (e.g. from increasing to decreasing). That is, at local minimum or maximum values, the slope of the signal will be zero. This property is used in optimizing problems. But we can also use it to find peaks in a signal. \n",
        "\n",
        "Integration can be thought of as the reverse of differentation. If we integrate the velocity with respect to time, we can calculate the distance traveled. By integrating a function, we are basically trying to find functions that would have the original one as their derivative. When we integrate a function, our integral will have an added unknown scalar constant, $C$. \n",
        "For example, if\n",
        "\n",
        "\\begin{equation}\n",
        "g(t) = 1.5t^2 + 4t - 1\n",
        "\\end{equation}\n",
        "\n",
        "our integral function $f(t)$ will be:\n",
        "\n",
        "\\begin{equation}\n",
        "f(t) = \\int g(t) dt = 0.5t^3 + 2t^2 - t + C\n",
        "\\end{equation}\n",
        "\n",
        "This constant exists because the derivative of a constant is 0 so we cannot know what the constant should be. This is an indefinite integral. If we compute a definite integral, that is the integral between two limits of the input, we will not have this unknown constant and the integral of a function will capture the area under the curve of that function between those two limits.\n",
        "</details>"
      ]
    },
    {
      "cell_type": "markdown",
      "metadata": {
        "execution": {},
        "id": "kSUEY5bh6Nfu"
      },
      "source": [
        "### Interactive Demo 1: Geometrical understanding\n",
        "\n",
        "In the interactive demo below, you can pick different functions to examine in the drop down menu. You can then choose to show the derivative function and/or the integral function. \n",
        "\n",
        "For the integral, we have chosen the unknown constant $C$ such that the integral function at the left x-axis limit is $0$, as $f(t = -10) = 0$. So the integral will reflect the area under the curve starting from that position.\n",
        "\n",
        "For each function:\n",
        "\n",
        "* Examine just the function first. Discuss and predict what the derivative and integral will look like. Remember that derivative = slope of function, integral = area under curve from $t = -10$ to that t.\n",
        "* Check the derivative - does it match your expectations?\n",
        "* Check the integral - does it match your expectations?"
      ]
    },
    {
      "cell_type": "code",
      "execution_count": null,
      "metadata": {
        "cellView": "form",
        "execution": {},
        "id": "8EnNvPzk6Nfz"
      },
      "outputs": [],
      "source": [
        "# @markdown Execute this cell to enable the widget\n",
        "function_options = widgets.Dropdown(\n",
        "    options=['Linear', 'Exponential', 'Sine', 'Sigmoid'],\n",
        "    description='Function',\n",
        "    disabled=False,\n",
        ")\n",
        "\n",
        "derivative = widgets.Checkbox(\n",
        "    value=False,\n",
        "    description='Show derivative',\n",
        "    disabled=False,\n",
        "    indent=False\n",
        ")\n",
        "\n",
        "integral = widgets.Checkbox(\n",
        "    value=False,\n",
        "    description='Show integral',\n",
        "    disabled=False,\n",
        "    indent=False\n",
        ")\n",
        "\n",
        "def on_value_change(change):\n",
        "    derivative.value = False\n",
        "    integral.value = False\n",
        "\n",
        "function_options.observe(on_value_change, names='value')\n",
        "\n",
        "interact(plot_functions, function = function_options, show_derivative = derivative, show_integral = integral);"
      ]
    },
    {
      "cell_type": "markdown",
      "metadata": {
        "execution": {},
        "id": "KITfu7PW6Nf5"
      },
      "source": [
        "In the demo above you may have noticed that the derivative and integral of the exponential function is same as the exponential function itself.\n",
        "\n",
        "Some functions like the exponential function, when differentiated or integrated, equal a scalar times the same function. This is a similar idea to eigenvectors of a matrix being those that, when multipled by the matrix, equal a scalar times themselves, as you saw yesterday!\n",
        "\n",
        "When \n",
        "\n",
        "\\begin{equation}\n",
        "\\frac{d(f(t)}{dt} = a \\cdot f(t)\\text{,}\n",
        "\\end{equation}\n",
        "\n",
        "we say that $f(t)$ is an **eigenfunction** for derivative operator, where $a$ is a scaling factor. Similarly, when \n",
        "\n",
        "\\begin{equation}\n",
        "\\int f(t)dt = a \\cdot f(t)\\text{,} \n",
        "\\end{equation}\n",
        "\n",
        "we say that $f(t)$ is an **eigenfunction** for integral operator.\n",
        "\n",
        "As you can imagine, working with eigenfunctions can make mathematical analysis easy."
      ]
    },
    {
      "cell_type": "markdown",
      "metadata": {
        "execution": {},
        "id": "VELAbaXD6NgE"
      },
      "source": [
        "---\n",
        "# Section 2: Analytical & Numerical Differentiation"
      ]
    },
    {
      "cell_type": "markdown",
      "source": [
        "If You want a vedio explanation of (Differentiation) from Neuromatch Academy, check this link : (https://youtube.com/watch?v=sHogZISXGuQ)"
      ],
      "metadata": {
        "id": "w_Bl9it06NgK"
      }
    },
    {
      "cell_type": "markdown",
      "metadata": {
        "execution": {},
        "id": "kJmI-Brj6NgO"
      },
      "source": [
        "\n",
        "In this section, we will delve into how we actually find the derivative of a function, both analytically and numerically.\n"
      ]
    },
    {
      "cell_type": "markdown",
      "metadata": {
        "execution": {},
        "id": "zPbfLo2z6NgR"
      },
      "source": [
        "## Section 2.1: Analytical Differentiation\n",
        "\n",
        "*Estimated timing to here from start of tutorial: 20 min*\n",
        "\n",
        "When we find the derivative analytically, we are finding the exact formula for the derivative function. \n",
        "\n",
        "To do this, instead of having to do some fancy math every time, we can often consult [an online resource](https://en.wikipedia.org/wiki/Differentiation_rules) for a list of common derivatives, in this case our trusty friend Wikipedia.\n",
        "\n",
        "If I told you to find the derivative of $f(t) = t^3$, you could consult that site and find in Section 2.1, that if $f(t) = t^n$, then $\\frac{d(f(t))}{dt} = nt^{n-1}$. So you would be able to tell me that the derivative of $f(t) = t^3$ is $\\frac{d(f(t))}{dt} = 3t^{2}$.\n",
        "\n",
        "This list of common derivatives often contains only very simple functions. Luckily, as we'll see in the next two sections, we can often break the derivative of a complex function down into the derivatives of more simple components."
      ]
    },
    {
      "cell_type": "markdown",
      "metadata": {
        "execution": {},
        "id": "NixW7S1A6NgU"
      },
      "source": [
        "### Section 2.1.1: Product Rule\n",
        "\n",
        "Sometimes we encounter functions which are the product of two functions that both depend on the variable. \n",
        "How do we take the derivative of such functions? For this we use the [Product Rule](https://en.wikipedia.org/wiki/Product_rule).\n",
        "\n",
        "\\begin{align}\n",
        "f(t) &= u(t)\\cdot v(t) \\\\\n",
        "\\frac{d(f(t))}{dt} &= v\\cdot \\frac{du}{dt} + u\\cdot \\frac{dv}{dt}\n",
        "\\end{align}"
      ]
    },
    {
      "cell_type": "markdown",
      "metadata": {
        "execution": {},
        "id": "ocVPTP7x6NgZ"
      },
      "source": [
        "#### Coding Exercise 2.1.1: Derivative of the postsynaptic potential alpha function \n",
        "\n",
        "Let's use the product rule to get the derivative of the post-synaptic potential alpha function. As we saw in Video 3, the shape of the postsynaptic potential is given by the so called alpha function:\n",
        "\n",
        "\\begin{equation}\n",
        "f(t) = t \\cdot \\text{exp}\\left( -\\frac{t}{\\tau} \\right)\n",
        "\\end{equation}\n",
        "\n",
        "Here $f(t)$ is a product of $t$ and $\\text{exp} \\left(-\\frac{t}{\\tau} \\right)$. So we can have $u(t) = t$ and $v(t) = \\text{exp} \\left( -\\frac{t}{\\tau} \\right)$ and use the product rule! \n",
        "\n",
        "We have defined $u(t)$ and $v(t)$ in the code below, in terms of the variable $t$ which is an array of time steps from 0 to 10. Define $\\frac{du}{dt}$ and $\\frac{dv}{dt}$, the compute the full derivative of the alpha function using the product rule. You can always consult wikipedia to figure out $\\frac{du}{dt}$ and $\\frac{dv}{dt}$!"
      ]
    },
    {
      "cell_type": "code",
      "execution_count": null,
      "metadata": {
        "execution": {},
        "id": "RLJQgHvk6Nga"
      },
      "outputs": [],
      "source": [
        "########################################################################\n",
        "## TODO for students\n",
        "## Complete all ... in code below and remove\n",
        "raise NotImplementedError(\"Calculate the derivatives\")\n",
        "########################################################################\n",
        "\n",
        "# Define time, time constant\n",
        "t = np.arange(0, 10, .1)\n",
        "tau = 0.5\n",
        "\n",
        "# Compute alpha function\n",
        "f = t * np.exp(-t/tau)\n",
        "\n",
        "# Define u(t), v(t)\n",
        "u_t = t\n",
        "v_t = np.exp(-t/tau)\n",
        "\n",
        "# Define du/dt, dv/dt\n",
        "du_dt = ...\n",
        "dv_dt = ...\n",
        "\n",
        "# Define full derivative\n",
        "df_dt = ...\n",
        "\n",
        "# Visualize\n",
        "plot_alpha_func(t, f, df_dt)"
      ]
    },
    {
      "cell_type": "markdown",
      "metadata": {
        "execution": {},
        "id": "AbF9f4Se6Ngb"
      },
      "source": [
        "[*Click for solution*](https://github.com/NeuromatchAcademy/precourse/tree/main//tutorials/W0D4_Calculus/solutions/W0D4_Tutorial1_Solution_636667ff.py)\n",
        "\n",
        "*Example output:*\n",
        "\n",
        "<img alt='Solution hint' align='left' width=1687.0 height=607.0 src=https://raw.githubusercontent.com/NeuromatchAcademy/precourse/main/tutorials/W0D4_Calculus/static/W0D4_Tutorial1_Solution_636667ff_0.png>\n",
        "\n"
      ]
    },
    {
      "cell_type": "markdown",
      "metadata": {
        "execution": {},
        "id": "P2V6SDjg6Ngh"
      },
      "source": [
        "### Section 2.1.2: Chain Rule\n",
        "\n",
        "Many times we encounter situations in which the variable $a$ is changing with time ($t$) and affecting another variable $r$. How can we estimate the derivative of $r$ with respect to $a$ i.e. $\\frac{dr}{da} = ?$\n",
        "\n",
        "To calculate $\\frac{dr}{da}$ we use the [Chain Rule](https://en.wikipedia.org/wiki/Chain_rule).\n",
        "\n",
        "\\begin{equation}\n",
        "\\frac{dr}{da} = \\frac{dr}{dt}\\cdot\\frac{dt}{da}\n",
        "\\end{equation}\n",
        "\n",
        "That is, we calculate the derivative of both variables with respect to t and divide that derivative of $r$ by that  derivative of $a$. \n",
        "\n",
        "We can also use this formula to simplify taking derivatives of complex functions! We can make an arbitrary function t so that we can compute more simple derivatives and multiply, as we will see in this exercise."
      ]
    },
    {
      "cell_type": "markdown",
      "metadata": {
        "execution": {},
        "id": "mYEyfW5w6Ngk"
      },
      "source": [
        "#### Math Exercise 2.1.2: Chain Rule\n",
        "\n",
        "Let's say that:\n",
        "\n",
        "\\begin{equation}\n",
        "r(a) = e^{a^4 + 1}\n",
        "\\end{equation}\n",
        "\n",
        "What is $\\frac{dr}{da}$? This is a more complex function so we can't simply consult a table of common derivatives. Can you use the chain rule to help?\n",
        "\n",
        "**Hint:** we didn't define t but you could set t equal to the function in the exponent."
      ]
    },
    {
      "cell_type": "markdown",
      "metadata": {
        "execution": {},
        "id": "g-4h8oWh6Ngn"
      },
      "source": [
        "[*Click for solution*](https://github.com/NeuromatchAcademy/precourse/tree/main//tutorials/W0D4_Calculus/solutions/W0D4_Tutorial1_Solution_a0e42694.py)\n",
        "\n"
      ]
    },
    {
      "cell_type": "markdown",
      "metadata": {
        "execution": {},
        "id": "AX6m2a3W6Ngo"
      },
      "source": [
        "### Section 2.2.3: Derivatives in Python using SymPy\n",
        "\n",
        "There is a useful Python library for getting the analytical derivatives of functions: SymPy. We actually used this in Interactive Demo 1, under the hood.\n",
        "\n",
        "See the following cell for an example of setting up a sympy function and finding the derivative."
      ]
    },
    {
      "cell_type": "code",
      "execution_count": null,
      "metadata": {
        "execution": {},
        "id": "Wc4r20tQ6Ngo"
      },
      "outputs": [],
      "source": [
        "# For sympy we first define our symbolic variables\n",
        "f, t = sp.symbols('f, t')\n",
        "\n",
        "# Function definition (sigmoid)\n",
        "f = 1/(1 + sp.exp(-(t-5)))\n",
        "\n",
        "# Get the derivative\n",
        "diff_f = sp.diff(f)\n",
        "\n",
        "# Print the resulting function\n",
        "print('Derivative of', f, 'is ', diff_f)"
      ]
    },
    {
      "cell_type": "markdown",
      "metadata": {
        "execution": {},
        "id": "bVq9fP5V6Ngq"
      },
      "source": [
        "## Section 2.2: Numerical Differentiation\n",
        "\n",
        "*Estimated timing to here from start of tutorial: 30 min*\n",
        "\n",
        "Formally, the derivative of a function $\\mathcal{f}(x)$ at any value $a$ is given by the finite difference formula (FD): \n",
        "\n",
        "\\begin{equation}\n",
        "FD = \\frac{f(a+h) - f(a)}{h}\n",
        "\\end{equation}\n",
        "\n",
        "As $h\\rightarrow 0$, the FD approaches the actual value of the derivative. Let's check this.\n",
        "\n",
        "**Note:** The numerical estimate of the derivative will result\n",
        "in a time series whose length is one short of the original time series."
      ]
    },
    {
      "cell_type": "markdown",
      "metadata": {
        "execution": {},
        "id": "9BaC_QKb6Ngr"
      },
      "source": [
        "### Interactive Demo 2.2: Numerical Differentiation of the Sine Function\n",
        "\n",
        "Below, we find the numerical derivative of the sine function for different values of $h$, and and compare the result the analytical solution.\n",
        "\n",
        "- What values of h result in more accurate numerical derivatives?"
      ]
    },
    {
      "cell_type": "code",
      "execution_count": null,
      "metadata": {
        "cellView": "form",
        "execution": {},
        "id": "y47ESnMO6Ngs"
      },
      "outputs": [],
      "source": [
        "# @markdown *Execute this cell to enable the widget.*\n",
        "def numerical_derivative_demo(h = 0.2):\n",
        "  # Now lets create a sequence of numbers which change according to the sine function\n",
        "  dt = 0.01\n",
        "  tx = np.arange(-10, 10, dt)\n",
        "  sine_fun = np.sin(tx)\n",
        "\n",
        "  # symbolic diffrentiation tells us that the derivative of sin(t) is cos(t)\n",
        "  cos_fun = np.cos(tx)\n",
        "\n",
        "  # Numerical derivative using difference formula\n",
        "  n_tx = np.arange(-10,10,h) # create new time axis\n",
        "  n_sine_fun = np.sin(n_tx) # calculate the sine function on the new time axis\n",
        "  sine_diff = (n_sine_fun[1:] - n_sine_fun[0:-1]) / h\n",
        "\n",
        "  fig = plt.figure()\n",
        "  ax = plt.subplot(111)\n",
        "  plt.plot(tx, sine_fun, label='sine function')\n",
        "  plt.plot(tx, cos_fun, label='analytical derivative of sine')\n",
        "\n",
        "  with plt.xkcd():\n",
        "    # notice that numerical derivative will have one element less\n",
        "    plt.plot(n_tx[0:-1], sine_diff, label='numerical derivative of sine')\n",
        "    plt.xlim([-10, 10])\n",
        "    plt.xlabel('Time (au)')\n",
        "    plt.ylabel('f(x) or df(x)/dt')\n",
        "    ax.legend(loc='upper center', bbox_to_anchor=(0.5, 1.05),\n",
        "              ncol=3, fancybox=True)\n",
        "    plt.show()\n",
        "\n",
        "_ = widgets.interact(numerical_derivative_demo, h = (0.01, 0.5, .02))"
      ]
    },
    {
      "cell_type": "markdown",
      "metadata": {
        "execution": {},
        "id": "T7RBON156Ngv"
      },
      "source": [
        "[*Click for solution*](https://github.com/NeuromatchAcademy/precourse/tree/main//tutorials/W0D4_Calculus/solutions/W0D4_Tutorial1_Solution_36cd3b93.py)\n",
        "\n"
      ]
    },
    {
      "cell_type": "markdown",
      "metadata": {
        "execution": {},
        "id": "L5mtQN-X6Ngz"
      },
      "source": [
        "## Section 2.3: Transfer Function and Gain of a Neuron\n",
        "\n",
        "*Estimated timing to here from start of tutorial: 34 min*\n",
        "\n",
        "When we inject a constant current (DC) in a neuron, its firing rate changes as a function of strength of the injected current. This is called the **input-output transfer function** or just the *transfer function* or *I/O Curve* of the neuron. For most neurons this can be approximated by a sigmoid function e.g.,:\n",
        "\n",
        "\\begin{equation}\n",
        "rate(I) = \\frac{1}{1+\\text{exp}(-a*(I-\\theta))} - \\frac{1}{\\text{exp}(a*\\theta)} + \\eta\n",
        "\\end{equation}\n",
        "\n",
        "where $I$ is injected current, $rate$ is the neuron firing rate and $\\eta$ is noise (Gaussian noise with zero mean and $\\sigma$ standard deviation).\n",
        "\n",
        "*You will visit this equation in a different context in Week 3*\n",
        "\n",
        "The slope of a neurons input-output transfer function, i.e., $\\frac{d(r(I))}{dI}$, is called the **gain** of the neuron, as it tells how the neuron output will change if the input is changed. In other words, the slope of the transfer function tells us in which range of inputs the neuron output is most sensitive to changes in its input."
      ]
    },
    {
      "cell_type": "markdown",
      "metadata": {
        "execution": {},
        "id": "J0ZmP_gt6Ng5"
      },
      "source": [
        "### Interactive Demo 2.3: Calculating the Transfer Function and Gain of a Neuron\n",
        "\n",
        "In the following demo, you can estimate the gain of the following neuron transfer function using numerical differentiaton. We will use our timestep as h. See the cell below for a function that computes the rate via the fomula above and then the gain using numerical differentiation. In the following cell, you can play with the parameters $a$ and $\\theta$ to change the shape of the transfer functon (and see the resulting gain function). You can also set $I_{mean}$ to see how the slope is computed for that value of I. In the left plot, the red vertical lines are the two values of the current being used to compute the slope, while the blue lines point to the corresponding ouput firing rates.\n",
        "\n",
        "Change the parameters of the neuron transfer function (i.e., $a$ and $\\theta$) and see if you can predict the value of $I$ for which the neuron has maximal slope and which parameter determines the peak value of the gain.\n",
        "\n",
        "1. Ensure you understand how the right plot relates to the left!\n",
        "2. How does $\\theta$ affect the transfer function and gain?\n",
        "3. How does $a$ affect the transfer function and gain?"
      ]
    },
    {
      "cell_type": "code",
      "execution_count": null,
      "metadata": {
        "execution": {},
        "id": "diUkDgnP6Ng7"
      },
      "outputs": [],
      "source": [
        "def compute_rate_and_gain(I, a, theta, current_timestep):\n",
        "  \"\"\" Compute rate and gain of neuron based on parameters\n",
        "\n",
        "  Args:\n",
        "    I (ndarray): different possible values of the current\n",
        "    a (scalar): parameter of the transfer function\n",
        "    theta (scalar): parameter of the transfer function\n",
        "    current_timestep (scalar): the time we're using to take steps\n",
        "\n",
        "  Returns:\n",
        "    (ndarray, ndarray): rate and gain for each possible value of I\n",
        "  \"\"\"\n",
        "\n",
        "  # Compute rate\n",
        "  rate = (1+np.exp(-a*(I-theta)))**-1 - (1+np.exp(a*theta))**-1\n",
        "\n",
        "  # Compute gain using a numerical derivative\n",
        "  gain = (rate[1:] - rate[0:-1])/current_timestep\n",
        "\n",
        "  return rate, gain"
      ]
    },
    {
      "cell_type": "code",
      "execution_count": null,
      "metadata": {
        "cellView": "form",
        "execution": {},
        "id": "YuhPTmd76Ng8"
      },
      "outputs": [],
      "source": [
        "# @markdown Execute this cell to enable the widget\n",
        "\n",
        "def plot_rate_and_gain(a, theta, I_mean):\n",
        "\n",
        "  current_timestep = 0.1\n",
        "\n",
        "  # Compute I\n",
        "  I = np.arange(0, 8, current_timestep)\n",
        "\n",
        "  rate, gain = compute_rate_and_gain(I, a, theta, current_timestep)\n",
        "  I_1 = I_mean - current_timestep/2\n",
        "  rate_1 = (1+np.exp(-a*(I_1-theta)))**-1 - (1+np.exp(a*theta))**-1\n",
        "  I_2 = I_mean + current_timestep/2\n",
        "  rate_2 = (1+np.exp(-a*(I_2-theta)))**-1 - (1+np.exp(a*theta))**-1\n",
        "\n",
        "  input_range = I_2-I_1\n",
        "  output_range = rate_2 - rate_1\n",
        "\n",
        "  # Visualize rate and gain\n",
        "  plt.subplot(1,2,1)\n",
        "  plt.plot(I,rate)\n",
        "  plt.plot([I_1,I_1],[0, rate_1],color='r')\n",
        "  plt.plot([0,I_1],[rate_1, rate_1],color='b')\n",
        "  plt.plot([I_2,I_2],[0, rate_2],color='r')\n",
        "  plt.plot([0,I_2],[rate_2, rate_2],color='b')\n",
        "  plt.xlim([0, 8])\n",
        "  low, high = plt.ylim()\n",
        "  plt.ylim([0, high])\n",
        "\n",
        "  plt.xlabel('Injected current (au)')\n",
        "  plt.ylabel('Output firing rate (normalized)')\n",
        "  plt.title('Transfer function')\n",
        "\n",
        "  plt.text(2, 1.3, 'Output-Input Ratio =' + str(np.round(1000*output_range/input_range)/1000), style='italic',\n",
        "      bbox={'facecolor': 'red', 'alpha': 0.5, 'pad': 10})\n",
        "  plt.subplot(1,2,2)\n",
        "  plt.plot(I[0:-1], gain)\n",
        "  plt.plot([I_mean, I_mean],[0,0.6],color='r')\n",
        "  plt.xlabel('Injected current (au)')\n",
        "  plt.ylabel('Gain')\n",
        "  plt.title('Gain')\n",
        "  plt.xlim([0, 8])\n",
        "  low, high = plt.ylim()\n",
        "  plt.ylim([0, high])\n",
        "\n",
        "_ = widgets.interact(plot_rate_and_gain, a = (0.5, 2.0, .02), theta=(1.2,4.0,0.1), I_mean= (0.5,8.0,0.1))"
      ]
    },
    {
      "cell_type": "markdown",
      "metadata": {
        "execution": {},
        "id": "_6xHyFHD6Ng_"
      },
      "source": [
        "[*Click for solution*](https://github.com/NeuromatchAcademy/precourse/tree/main//tutorials/W0D4_Calculus/solutions/W0D4_Tutorial1_Solution_8e5f2cef.py)\n",
        "\n"
      ]
    },
    {
      "cell_type": "markdown",
      "metadata": {
        "execution": {},
        "id": "gp6pwO_16NhA"
      },
      "source": [
        "# Section 3: Functions of Multiple Variables\n",
        "\n",
        "*Estimated timing to here from start of tutorial: 44 min*\n",
        "\n",
        "\n"
      ]
    },
    {
      "cell_type": "markdown",
      "source": [
        "If you want a vedio explanation of (Functions of multiple variables) from Neuromatch Academy ,check this link :  (https://youtube.com/watch?v=Mp_uNNNiQAI)"
      ],
      "metadata": {
        "id": "hEM-Clbq6NhC"
      }
    },
    {
      "cell_type": "markdown",
      "metadata": {
        "execution": {},
        "id": "f9kNMxNj6NhG"
      },
      "source": [
        "This video covers what partial derivatives are.\n",
        "\n",
        "<details>\n",
        "<summary> <font color='blue'>Click here for text recap of video </font></summary>\n",
        "\n",
        "In the previous section, you looked at function of single variable $t$ or $x$. In most cases, we encounter functions of multiple variables. For example, in the brain, the firing rate of a neuron is a function of both excitatory and inhibitory input rates. In the following, we will look into how to calculate derivatives of such functions.\n",
        "\n",
        "When we take the derrivative of a multivariable function with respect to one of the variables it is called the **partial derivative**. For example if we have a function:\n",
        "\n",
        "\\begin{align}\n",
        "f(x,y) = x^2 + 2xy + y^2\n",
        "\\end{align}\n",
        "\n",
        "The we can define the partial derivatives as\n",
        "\n",
        "\\begin{align}\n",
        "\\frac{\\partial(f(x,y))}{\\partial x} = 2x + 2y + 0 \\\\\\\\\n",
        "\\frac{\\partial(f(x,y))}{\\partial y} = 0 + 2x + 2y\n",
        "\\end{align}\n",
        "\n",
        "In the above, the derivative of the last term ($y^2$) with respect to $x$ is zero because it does not change with respect to $x$. Similarly, the derivative of $x^2$ with respect to $y$ is also zero.\n",
        "</details>\n",
        "\n"
      ]
    },
    {
      "cell_type": "markdown",
      "metadata": {
        "execution": {},
        "id": "3rPbmjPj6NhJ"
      },
      "source": [
        "Just as with the derivatives we saw earlier, you can get partial derivatives through either an analytical method (finding an exact equation) or a numerical method (approximating)."
      ]
    },
    {
      "cell_type": "markdown",
      "metadata": {
        "execution": {},
        "id": "lueqb3cg6Nhd"
      },
      "source": [
        "### Interactive Demo 3: Visualize partial derivatives\n",
        "\n",
        "In the demo below, you can input any function of x and y and then visualize both the function and partial derivatives. \n",
        "\n",
        "We visualized the 2-dimensional function as a surface plot in which the values of the function are rendered as color. Yellow represents a high value and blue represents a low value. The height of the surface also shows the numerical value of the function. A more complete description of 2D surface plots and why we need them is located in Bonus Section 1.1. The first plot is that of our function. And the two bottom plots are the derivative surfaces with respect to $x$ and $y$ variables.\n",
        "\n",
        "1. Ensure you understand how the plots relate to each other - if not, review the above material\n",
        "2. Can you come up with a function where the partial derivative with respect to x will be a linear plane and the derivative with respect to y will be more curvy?\n",
        "3. What happens to the partial derivatives if there are no terms involving multiplying $x$ and $y$ together?"
      ]
    },
    {
      "cell_type": "code",
      "execution_count": null,
      "metadata": {
        "cellView": "form",
        "execution": {},
        "id": "tgQk3rH16Nhe"
      },
      "outputs": [],
      "source": [
        "# @markdown Execute this widget to enable the demo\n",
        "\n",
        "# Let's use sympy to calculate Partial derivatives of a function of 2-variables\n",
        "@interact(f2d_string = 'x**2 + 2*x*y + y**2')\n",
        "def plot_partial_derivs(f2d_string):\n",
        "  f, x, y = sp.symbols('f, x, y')\n",
        "\n",
        "  f2d = eval(f2d_string)\n",
        "  f2d_dx = sp.diff(f2d,x)\n",
        "  f2d_dy = sp.diff(f2d,y)\n",
        "\n",
        "  print('Partial derivative of ', f2d, 'with respect to x is', f2d_dx)\n",
        "  print('Partial derivative of ', f2d, 'with respect to y is', f2d_dy)\n",
        "\n",
        "  p1 = sp.plotting.plot3d(f2d, (x, -5, 5), (y, -5, 5),show=True,xlabel='x', ylabel='y', zlabel='f(x,y)',title='Our function')\n",
        "\n",
        "  p2 = sp.plotting.plot3d(f2d_dx, (x, -5, 5), (y, -5, 5),show=True,xlabel='x', ylabel='y', zlabel='df(x,y)/dx',title='Derivative w.r.t. x')\n",
        "\n",
        "  p3 = sp.plotting.plot3d(f2d_dy, (x, -5, 5), (y, -5, 5),show=True,xlabel='x', ylabel='y', zlabel='df(x,y)/dy',title='Derivative w.r.t. y')"
      ]
    },
    {
      "cell_type": "markdown",
      "metadata": {
        "execution": {},
        "id": "-eFacM5O6Nhf"
      },
      "source": [
        "[*Click for solution*](https://github.com/NeuromatchAcademy/precourse/tree/main//tutorials/W0D4_Calculus/solutions/W0D4_Tutorial1_Solution_6967496a.py)\n",
        "\n"
      ]
    },
    {
      "cell_type": "markdown",
      "metadata": {
        "execution": {},
        "id": "xUykJPBy6Nhh"
      },
      "source": [
        "To see an application of the numerical calculation of partial derivatives to understand a neuron driven by excitatory and inhibitory inputs, see Bonus Section 1!  \n",
        "\n",
        "We will use the partial derivative several times in the course. For example partial derivative are used the calculate the Jacobian of a system of differential equations. The Jacobian is used to determine the dynamics and stability of a system. This will be introduced in the second week while studying the dynamics of excitatory and inhibitory population interactions. "
      ]
    },
    {
      "cell_type": "markdown",
      "metadata": {
        "execution": {},
        "id": "nCIuwknm6Nhh"
      },
      "source": [
        "---\n",
        "# Section 4: Numerical Integration\n"
      ]
    },
    {
      "cell_type": "markdown",
      "source": [
        "If you want a vedio explanation of (Numerical integration) from Neuromatch Academy , check this link : (https://youtube.com/watch?v=cT0_CbD_h9Q)"
      ],
      "metadata": {
        "id": "qF1M-Bha6Nhj"
      }
    },
    {
      "cell_type": "markdown",
      "metadata": {
        "execution": {},
        "id": "2-D1fUPg6Nhm"
      },
      "source": [
        "This video covers numerical integration and specifically Riemann sums.\n",
        "\n",
        "<details>\n",
        "<summary> <font color='blue'>Click here for text recap of video </font></summary>\n",
        "\n",
        "Geometrically, integration is the area under the curve. This interpretation gives two formal ways to calculate the integral of a function numerically. \n",
        "\n",
        "**[Riemann sum](https://en.wikipedia.org/wiki/Riemann_sum)**: \n",
        "If we wish to integrate a function $f(t)$ with respect to $t$, then first we divide the function into $n$ intervals of size $dt = a-b$, where $a$ is the starting of the interval. Thus, each interval gives a rectangle with height $f(a)$ and width $dt$. By summing the area of all the rectangles, we can approximate the area under the curve. As the size $dt$ approaches to zero, our estimate of the integral approcahes the analytical calculation. Essentially, the Riemann sum is cutting the region under the curve in vertical stripes, calculating area of the each stripe and summing them up.\n",
        "\n",
        "</details>"
      ]
    },
    {
      "cell_type": "markdown",
      "metadata": {
        "execution": {},
        "id": "R6OgrP366Nhp"
      },
      "source": [
        "## Section 4.1: Demonstration of the Riemann Sum\n",
        "\n",
        "*Estimated timing to here from start of tutorial: 60 min*\n"
      ]
    },
    {
      "cell_type": "markdown",
      "metadata": {
        "execution": {},
        "id": "PeF3fhst6Nhq"
      },
      "source": [
        "### Interactive Demo 4.1: Riemann Sum vs. Analytical Integral with changing step size\n",
        "\n",
        "Below, we will compare numerical integration using the Riemann Sum with the analytical solution. You can change the interval size $dt$ using the slider.\n",
        "\n",
        "1. What values of dt result in the best numerical integration?\n",
        "2. What is the downside of choosing that value of $dt$?\n",
        "3. With large dt, why are we underestimating the integral (as opposed to overestimating?"
      ]
    },
    {
      "cell_type": "code",
      "execution_count": null,
      "metadata": {
        "cellView": "form",
        "execution": {},
        "id": "5xInc1O-6Nhr"
      },
      "outputs": [],
      "source": [
        "# @markdown Run this cell to enable the widget!\n",
        "def riemann_sum_demo(dt = 0.5):\n",
        "  step_size = 0.1\n",
        "  min_val = 0.\n",
        "  max_val = 10.\n",
        "  tx = np.arange(min_val, max_val, step_size)\n",
        "\n",
        "  # Our function\n",
        "  ftn = tx**2 - tx + 1\n",
        "  # And the integral analytical formula calculates using sympy\n",
        "  int_ftn = tx**3/3 - tx**2/2 + tx\n",
        "\n",
        "  # Numerical integration of f(t) using Riemann Sum\n",
        "  n = int((max_val-min_val)/dt)\n",
        "  r_tx = np.zeros(n)\n",
        "  fun_value = np.zeros(n)\n",
        "  for ii in range(n):\n",
        "    a = min_val+ii*dt\n",
        "    fun_value[ii] = a**2 - a + 1\n",
        "    r_tx[ii] = a;\n",
        "\n",
        "  # Riemann sum is just cumulative sum of the fun_value multiplied by the\n",
        "  r_sum = np.cumsum(fun_value)*dt\n",
        "  with plt.xkcd():\n",
        "    plt.figure(figsize=(20,5))\n",
        "    ax = plt.subplot(1,2,1)\n",
        "    plt.plot(tx,ftn,label='Function')\n",
        "\n",
        "    for ii in range(n):\n",
        "      plt.plot([r_tx[ii], r_tx[ii], r_tx[ii]+dt, r_tx[ii]+dt], [0, fun_value[ii], fun_value[ii], 0] ,color='r')\n",
        "\n",
        "    plt.xlabel('Time (au)')\n",
        "    plt.ylabel('f(t)')\n",
        "    plt.title('f(t)')\n",
        "    plt.grid()\n",
        "\n",
        "    plt.subplot(1,2,2)\n",
        "    plt.plot(tx,int_ftn,label='Analytical')\n",
        "    plt.plot(r_tx+dt,r_sum,color = 'r',label='Riemann Sum')\n",
        "    plt.xlabel('Time (au)')\n",
        "    plt.ylabel('int(f(t))')\n",
        "    plt.title('Integral of f(t)')\n",
        "    plt.grid()\n",
        "    plt.legend()\n",
        "    plt.show()\n",
        "\n",
        "\n",
        "_ = widgets.interact(riemann_sum_demo, dt = (0.1, 1., .02))"
      ]
    },
    {
      "cell_type": "markdown",
      "metadata": {
        "execution": {},
        "id": "XmdE3_kW6Nht"
      },
      "source": [
        "[*Click for solution*](https://github.com/NeuromatchAcademy/precourse/tree/main//tutorials/W0D4_Calculus/solutions/W0D4_Tutorial1_Solution_00ad6712.py)\n",
        "\n"
      ]
    },
    {
      "cell_type": "markdown",
      "metadata": {
        "execution": {},
        "id": "2Lm0WpEb6Nhu"
      },
      "source": [
        "There are other methods of numerical integration, such as \n",
        "**[Lebesgue integral](https://en.wikipedia.org/wiki/Lebesgue_integral)** and **Runge Kutta**. In the Lebesgue integral, we divide the area under the curve into horizontal stripes. That is, instead of the independent variable, the range of the function $f(t)$ is divided into small intervals. In any case, the Riemann sum is the basis of Euler's method of integration for solving ordinary differential equations - something you will do in a later tutorial today."
      ]
    },
    {
      "cell_type": "markdown",
      "metadata": {
        "execution": {},
        "id": "PSB8rXPs6Nhu"
      },
      "source": [
        "## Section 4.2: Neural Applications of Numerical Integration\n",
        "\n",
        "*Estimated timing to here from start of tutorial: 68 min*\n"
      ]
    },
    {
      "cell_type": "markdown",
      "metadata": {
        "execution": {},
        "id": "VCLY5tTD6Nhv"
      },
      "source": [
        "### Coding Exercise 4.2: Calculating Charge Transfer with Excitatory Input\n",
        "An incoming spike elicits a change in the post-synaptic membrane potential ($PSP(t)$) which can be captured by the following function\n",
        "\n",
        "\\begin{equation}\n",
        "PSP(t) = J \\cdot t \\cdot \\text{exp}\\left(-\\frac{t-t_{sp}}{\\tau_{s}}\\right)\n",
        "\\end{equation}\n",
        "\n",
        "where $J$ is the synaptic amplitude, $t_{sp}$ is the spike time and $\\tau_s$ is the synaptic time constant.\n",
        "\n",
        "Estimate the total charge transfered to the postsynaptic neuron during an PSP with amplitude $J=1.0$, $\\tau_s = 1.0$ and $t_{sp} = 1$ (that is the spike occured at $1$ ms). The total charge will be the integral of the PSP function."
      ]
    },
    {
      "cell_type": "code",
      "execution_count": null,
      "metadata": {
        "execution": {},
        "id": "ov9cqJlN6Nhw"
      },
      "outputs": [],
      "source": [
        "########################################################################\n",
        "## TODO for students\n",
        "## Complete all ... in code below and remove\n",
        "raise NotImplementedError(\"Calculate the charge transfer\")\n",
        "########################################################################\n",
        "\n",
        "# Set up parameters\n",
        "J = 1\n",
        "tau_s = 1\n",
        "t_sp = 1\n",
        "dt = .1\n",
        "t = np.arange(0, 10, dt)\n",
        "\n",
        "# Code PSP formula\n",
        "PSP = ...\n",
        "\n",
        "# Compute numerical integral\n",
        "# We already have PSP at every time step (height of rectangles). We need to\n",
        "#.  multiply by width of rectangles (dt) to get areas\n",
        "rectangle_areas = ...\n",
        "\n",
        "# Cumulatively sum rectangles (hint: use np.cumsum)\n",
        "numerical_integral = ...\n",
        "\n",
        "# Visualize\n",
        "plot_charge_transfer(t, PSP, numerical_integral)"
      ]
    },
    {
      "cell_type": "markdown",
      "metadata": {
        "execution": {},
        "id": "_oL_8gI26Nhy"
      },
      "source": [
        "[*Click for solution*](https://github.com/NeuromatchAcademy/precourse/tree/main//tutorials/W0D4_Calculus/solutions/W0D4_Tutorial1_Solution_200c1e98.py)\n",
        "\n",
        "*Example output:*\n",
        "\n",
        "<img alt='Solution hint' align='left' width=1687.0 height=607.0 src=https://raw.githubusercontent.com/NeuromatchAcademy/precourse/main/tutorials/W0D4_Calculus/static/W0D4_Tutorial1_Solution_200c1e98_0.png>\n",
        "\n"
      ]
    },
    {
      "cell_type": "markdown",
      "metadata": {
        "execution": {},
        "id": "DWFN07k16Nh0"
      },
      "source": [
        "You can see from the figure that the total charge transferred is a little over 2.5. "
      ]
    },
    {
      "cell_type": "markdown",
      "metadata": {
        "execution": {},
        "id": "xdZjgy_56Nh1"
      },
      "source": [
        "---\n",
        "# Section 5: Differentiation and Integration as Filtering Operations\n",
        "\n",
        "*Estimated timing to here from start of tutorial: 75 min*"
      ]
    },
    {
      "cell_type": "markdown",
      "source": [
        "If you want a vedio explanation of (Filtering operations) from Neuromatch Academy , check this link : (https://youtube.com/watch?v=7_ZjlT2d174)"
      ],
      "metadata": {
        "id": "h1malOLW6Nh3"
      }
    },
    {
      "cell_type": "markdown",
      "metadata": {
        "execution": {},
        "id": "vxqurnBB6Nh5"
      },
      "source": [
        "This video covers a different interpretation of differentiation and integration: viewing them as filtering operations.\n",
        "\n",
        "<details>\n",
        "<summary> <font color='blue'>Click here for text recap of video </font></summary>\n",
        "In the above, we used the notions that geometrically integration is the area under the curve and differentiation is the slope of the curve. There is another interpretation of these two operations.\n",
        "\n",
        "As we calculate the derivative of a function, we take the difference of adjacent values of the function. This results in the removal of common part between the two values. As a consequence, we end up removing the unchanging part of the signal. If we now think in terms of frequencies, differentiation removes low frequencies, or slow changes. That is, differentiation acts as a high pass filter. \n",
        "\n",
        "Integration does the opposite because in the estimation of an integral we keep adding adjacent values of the signal. So, again thinking in terms of frequencies, integration is akin to the removal of high frequencies or fast changes (low-pass filter). The shock absorbers in your bike are an example of integrators. \n",
        "\n",
        "We can see this behavior the demo below. Here we will not work with functions, but with signals. As such, functions and signals are the same. Just that in most cases our signals are measurements with respect to time."
      ]
    },
    {
      "cell_type": "code",
      "execution_count": null,
      "metadata": {
        "cellView": "form",
        "execution": {},
        "id": "wSTTfBXf6Nh7"
      },
      "outputs": [],
      "source": [
        "# @markdown Execute this cell to see visualization\n",
        "h = 0.01\n",
        "tx = np.arange(0,2,h)\n",
        "noise_signal = np.random.uniform(0, 1, (len(tx)))*0.5\n",
        "x1 = np.sin(0.5*np.pi*tx) + noise_signal # This will generate a 1 Hz sin wave\n",
        "# In the signal x1 we have added random noise which contributs the high frequencies\n",
        "\n",
        "# Take the derivative equivalent of the signal i.e. subtract the adjacent values\n",
        "x1_diff = (x1[1:] - x1[:-1])\n",
        "\n",
        "# Take the integration equivalent of the signal i.e. sum the adjacent values. And divide by 2 (take average essentially)\n",
        "x1_integrate = (x1[1:] + x1[:-1])/2\n",
        "\n",
        "# Plotting code\n",
        "plt.figure(figsize=(15,10))\n",
        "plt.subplot(3,1,1)\n",
        "plt.plot(tx,x1,label='Original Signal')\n",
        "#plt.xlabel('Time (sec)')\n",
        "plt.ylabel('Signal Value(au)')\n",
        "plt.legend()\n",
        "\n",
        "plt.subplot(3,1,2)\n",
        "plt.plot(tx[0:-1],x1_diff,label='Differentiated Signal')\n",
        "# plt.xlabel('Time (sec)')\n",
        "plt.ylabel('Differentiated Value(au)')\n",
        "plt.legend()\n",
        "\n",
        "plt.subplot(3,1,3)\n",
        "plt.plot(tx,x1,label='Original Signal')\n",
        "plt.plot(tx[0:-1],x1_integrate,label='Integrate Signal')\n",
        "plt.xlabel('Time (sec)')\n",
        "plt.ylabel('Integrate Value(au)')\n",
        "plt.legend()"
      ]
    },
    {
      "cell_type": "markdown",
      "metadata": {
        "execution": {},
        "id": "LOW4SJfn6Nh8"
      },
      "source": [
        "Notice how the differentiation operation amplifies the fast changes which were contributed by noise. By contrast, the integration operation supresses the fast changing noise. If we perform the same operation of averaging the adjancent samples on the orange trace, we will further smooth the signal.  Such sums and subtractions form the basis of digital filters. \n",
        "\n",
        "\n"
      ]
    },
    {
      "cell_type": "markdown",
      "metadata": {
        "execution": {},
        "id": "1QzTo0FP6Nh9"
      },
      "source": [
        "---\n",
        "# Summary\n",
        "\n",
        "*Estimated timing of tutorial: 80 minutes*\n",
        "\n",
        "* Geometrically, integration is the area under the curve and differentiation is the slope of the function\n",
        "* The concepts of slope and area can be easily extended to higher dimensions. We saw this when we took the derivative of a 2-dimensional transfer function of a neuron\n",
        "* Numerical estimates of both derivatives and integrals require us to choose a time step $h$. The smaller the $h$, the better the estimate, but for small values of $h$, more computations are needed. So there is always some tradeoff.\n",
        "* Partial derivatives are just the estimate of the slope along one of the many dimensions of the function. We can combine the slopes in different directions using vector sum to find the direction of the slope.\n",
        "* Because the derivative of a function is zero at the local peak or trough, derivatives are used to solve optimization problems.\n",
        "* When thinking of signal, integration operation is equivalent to smoothening the signals (i.e. remove fast changes)\n",
        "* Differentiation operations remove slow changes and enhance high frequency content of a signal"
      ]
    },
    {
      "cell_type": "markdown",
      "metadata": {
        "execution": {},
        "id": "_asTj4Pn6Nh-"
      },
      "source": [
        "---\n",
        "# Bonus Section 1: Numerical calculation of partial derivatives\n",
        "\n",
        "\n"
      ]
    },
    {
      "cell_type": "markdown",
      "metadata": {
        "execution": {},
        "id": "8I9J-4pd6Nh_"
      },
      "source": [
        "## Bonus Section 1.1: Understanding 2D plots\n",
        "\n",
        "Let's take the example of a  neuron driven by excitatory and inhibitory inputs. Because this is for illustrative purposes, we will not go in the details of the numerical range of the input and output variables.\n",
        "\n",
        "In the function below, we assume that the firing rate of a neuron increases motonotically with an increase in excitation and decreases monotonically with an increase in inhibition. The inhibition is modelled as a subtraction. Like for the 1-dimensional transfer function, here we assume that we can approximate the transfer function as a sigmoid function.\n",
        "\n",
        "To evaluate the partial derivatives we can use the same numerical differentiation as before but now we apply it to each row and column separately. "
      ]
    },
    {
      "cell_type": "code",
      "execution_count": null,
      "metadata": {
        "cellView": "form",
        "execution": {},
        "id": "QzWC0bFW6NiA"
      },
      "outputs": [],
      "source": [
        "# @markdown Execute this cell to visualize the neuron firing rate surface\n",
        "def sigmoid_function(x,a,theta):\n",
        "    '''\n",
        "    Population activation function.\n",
        "\n",
        "    Expects:\n",
        "    x     : the population input\n",
        "    a     : the gain of the function\n",
        "    theta : the threshold of the function\n",
        "\n",
        "    Returns:\n",
        "    the population activation response F(x) for input x\n",
        "    '''\n",
        "    # add the expression of f = F(x)\n",
        "    f = (1+np.exp(-a*(x-theta)))**-1 - (1+np.exp(a*theta))**-1\n",
        "\n",
        "    return f\n",
        "\n",
        "# Neuron Transfer function\n",
        "step_size = 0.1\n",
        "exc_input = np.arange(2,9,step_size)\n",
        "inh_input = np.arange(0,7,step_size)\n",
        "exc_a = 1.2\n",
        "exc_theta = 2.4\n",
        "inh_a = 1.\n",
        "inh_theta = 4.\n",
        "\n",
        "rate = np.zeros((len(exc_input),len(inh_input)))\n",
        "\n",
        "for ii in range(len(exc_input)):\n",
        "  for jj in range(len(inh_input)):\n",
        "    rate[ii,jj] = sigmoid_function(exc_input[ii],exc_a,exc_theta) - sigmoid_function(inh_input[jj],inh_a,inh_theta)*0.5\n",
        "\n",
        "with plt.xkcd():\n",
        "  X, Y = np.meshgrid(exc_input, inh_input)\n",
        "  fig = plt.figure(figsize=(12,12))\n",
        "  ax1 = fig.add_subplot(2,2,1)\n",
        "  lg_txt = 'Inhibition = ' + str(inh_input[0])\n",
        "  ax1.plot(exc_input,rate[:,0],label=lg_txt)\n",
        "  lg_txt = 'Inhibition = ' + str(inh_input[20])\n",
        "  ax1.plot(exc_input,rate[:,20],label=lg_txt)\n",
        "  lg_txt = 'Inhibition = ' + str(inh_input[40])\n",
        "  ax1.plot(exc_input,rate[:,40],label=lg_txt)\n",
        "  ax1.legend()\n",
        "  ax1.set_xlabel('Excitatory input (au)')\n",
        "  ax1.set_ylabel('Neuron output rate (au)');\n",
        "\n",
        "  ax2 = fig.add_subplot(2,2,2)\n",
        "  lg_txt = 'Excitation = ' + str(exc_input[0])\n",
        "  ax2.plot(inh_input,rate[0,:],label=lg_txt)\n",
        "  lg_txt = 'Excitation = ' + str(exc_input[20])\n",
        "  ax2.plot(inh_input,rate[20,:],label=lg_txt)\n",
        "  lg_txt = 'Excitation = ' + str(exc_input[40])\n",
        "  ax2.plot(inh_input,rate[40,:],label=lg_txt)\n",
        "  ax2.legend()\n",
        "  ax2.set_xlabel('Inhibitory input (au)')\n",
        "  ax2.set_ylabel('Neuron output rate (au)');\n",
        "\n",
        "  ax3 = fig.add_subplot(2, 1, 2, projection='3d')\n",
        "  surf= ax3.plot_surface(Y.T, X.T, rate, rstride=1, cstride=1,\n",
        "                  cmap='viridis', edgecolor='none')\n",
        "  ax3.set_xlabel('Inhibitory input (au)')\n",
        "  ax3.set_ylabel('Excitatory input (au)')\n",
        "  ax3.set_zlabel('Neuron output rate (au)');\n",
        "  fig.colorbar(surf)"
      ]
    },
    {
      "cell_type": "markdown",
      "metadata": {
        "execution": {},
        "id": "RhRxV-J_6NiE"
      },
      "source": [
        "In the **Top-Left** plot, we see how the neuron output rate increases as a function of excitatory input (e.g., the blue trace). However, as we increase inhibition, expectedly the neuron output decreases and the curve is shifted downwards. This constant shift in the curve suggests that the effect of inhibition is subtractive, and the amount of subtraction does not depend on the neuron output. \n",
        "\n",
        "We can alternatively see how the neuron output changes with respect to inhibition and study how excitation affects that. This is visualized in the **Top-Right** plot.\n",
        "\n",
        "This type of plotting is very intuitive, but it becomes very tedious to visualize when there are larger numbers of lines to be plotted. A nice solution to this visualization problem is to render the data as color, as surfaces, or both. \n",
        "\n",
        "This is what we have done in the plot on the bottom. The colormap on the right shows the output of the neuron as a function of inhibitory input and excitatory input. The output rate is shown both as height along the z-axis and as the color. Blue means low firing rate and yellow means high firing rate (see the color bar).\n",
        "\n",
        "In the above plot, the output rate of the neuron goes below zero. This is of course not physiological as neurons cannot have negative firing rates. In models, we either choose the operating point such that the output does not go below zero, or else we clamp the neuron output to zero if it goes below zero. You will learn about it more in Week 2."
      ]
    },
    {
      "cell_type": "markdown",
      "metadata": {
        "execution": {},
        "id": "6NBd6jFg6NiN"
      },
      "source": [
        "## Bonus Section 1.2: Numerical partial derivatives\n",
        "\n",
        "We can now compute the partial derivatives of our transfer function in response to excitatory and inhibitory input. We do so below! "
      ]
    },
    {
      "cell_type": "code",
      "execution_count": null,
      "metadata": {
        "cellView": "form",
        "execution": {},
        "id": "WDKBemRU6NiO"
      },
      "outputs": [],
      "source": [
        "# @markdown Execute this cell implement our neural transfer function, `plot_2d_neuron_transfer_function`, in respond to excitatory and inhibitory input\n",
        "def plot_2d_neuron_transfer_function(exc_a, exc_theta, inh_a, inh_theta):\n",
        "    # Neuron Transfer Function\n",
        "    step_size = 0.1\n",
        "    exc_input = np.arange(1,10,step_size)\n",
        "    inh_input = np.arange(0,7,step_size)\n",
        "\n",
        "    rate = np.zeros((len(exc_input),len(inh_input)))\n",
        "    for ii in range(len(exc_input)):\n",
        "      for jj in range(len(inh_input)):\n",
        "        rate[ii,jj] = sigmoid_function(exc_input[ii],exc_a,exc_theta) - sigmoid_function(inh_input[jj],inh_a,inh_theta)*0.5\n",
        "\n",
        "    # Derivative with respect to excitatory input rate\n",
        "    rate_de = np.zeros((len(exc_input)-1,len(inh_input)))# this will have one row less than the rate matrix\n",
        "    for ii in range(len(inh_input)):\n",
        "      rate_de[:,ii] = (rate[1:,ii] - rate[0:-1,ii])/step_size\n",
        "\n",
        "    # Derivative with respect to inhibitory input rate\n",
        "    rate_di = np.zeros((len(exc_input),len(inh_input)-1))# this will have one column less than the rate matrix\n",
        "    for ii in range(len(exc_input)):\n",
        "      rate_di[ii,:] = (rate[ii,1:] - rate[ii,0:-1])/step_size\n",
        "\n",
        "\n",
        "    X, Y = np.meshgrid(exc_input, inh_input)\n",
        "    fig = plt.figure(figsize=(20,8))\n",
        "    ax1 = fig.add_subplot(1, 3, 1, projection='3d')\n",
        "    surf1 = ax1.plot_surface(Y.T, X.T, rate, rstride=1, cstride=1, cmap='viridis', edgecolor='none')\n",
        "    ax1.set_xlabel('Inhibitory input (au)')\n",
        "    ax1.set_ylabel('Excitatory input (au)')\n",
        "    ax1.set_zlabel('Neuron output rate (au)')\n",
        "    ax1.set_title('Rate as a function of Exc. and Inh');\n",
        "    ax1.view_init(45, 10)\n",
        "    fig.colorbar(surf1)\n",
        "\n",
        "    Xde, Yde = np.meshgrid(exc_input[0:-1], inh_input)\n",
        "    ax2 = fig.add_subplot(1, 3, 2, projection='3d')\n",
        "    surf2 = ax2.plot_surface(Yde.T, Xde.T, rate_de, rstride=1, cstride=1, cmap='viridis', edgecolor='none')\n",
        "    ax2.set_xlabel('Inhibitory input (au)')\n",
        "    ax2.set_ylabel('Excitatory input (au)')\n",
        "    ax2.set_zlabel('Neuron output rate (au)');\n",
        "    ax2.set_title('Derivative wrt Excitation');\n",
        "    ax2.view_init(45, 10)\n",
        "    fig.colorbar(surf2)\n",
        "\n",
        "    Xdi, Ydi = np.meshgrid(exc_input, inh_input[:-1])\n",
        "    ax3 = fig.add_subplot(1, 3, 3, projection='3d')\n",
        "    surf3 = ax3.plot_surface(Ydi.T, Xdi.T, rate_di, rstride=1, cstride=1, cmap='viridis', edgecolor='none')\n",
        "    ax3.set_xlabel('Inhibitory input (au)')\n",
        "    ax3.set_ylabel('Excitatory input (au)')\n",
        "    ax3.set_zlabel('Neuron output rate (au)');\n",
        "    ax3.set_title('Derivative wrt Inhibition');\n",
        "    ax3.view_init(15, -115)\n",
        "    fig.colorbar(surf3)"
      ]
    },
    {
      "cell_type": "code",
      "execution_count": null,
      "metadata": {
        "execution": {},
        "id": "HwVR7bZN6NiQ"
      },
      "outputs": [],
      "source": [
        "plot_2d_neuron_transfer_function(exc_a = 1.2, exc_theta = 2.4, inh_a = 1, inh_theta = 4)"
      ]
    },
    {
      "cell_type": "markdown",
      "metadata": {
        "execution": {},
        "id": "yYwZX9dl6NiR"
      },
      "source": [
        "Is this what you expected? Change the parameters in the function to generate the 2-d transfer function of the neuron for different excitatory and inhibitory $a$ and $\\theta$ and test your intuitions Can you relate this shape of the partial derivative surface to the gain of the 1-d transfer-function of a neuron (Section 2)?\n",
        "\n"
      ]
    },
    {
      "cell_type": "markdown",
      "metadata": {
        "execution": {},
        "id": "4TyTQm7p6NiS"
      },
      "source": [
        "[*Click for solution*](https://github.com/NeuromatchAcademy/precourse/tree/main//tutorials/W0D4_Calculus/solutions/W0D4_Tutorial1_Solution_cdb38705.py)\n",
        "\n"
      ]
    }
  ],
  "metadata": {
    "colab": {
      "collapsed_sections": [
        "nq-hVvP1MZqa",
        "KCWR4wciMZqb",
        "tcLiKp-AMZqc",
        "8-bz4N8eMZqd",
        "9-BbBcZPMZqf",
        "L0_P-VNEMZqf",
        "Yx7vP4zvMZqg",
        "RACJEWwMMZqg",
        "dXFmgh9UMZqh",
        "pMQS0U54MZqi",
        "ZLb9XPF_VvPm",
        "c0oilOjOV0KZ"
      ],
      "name": "W2D3_Tutorial",
      "provenance": [],
      "toc_visible": true
    },
    "kernel": {
      "display_name": "Python 3",
      "language": "python",
      "name": "python3"
    },
    "kernelspec": {
      "display_name": "Python 3",
      "name": "python3"
    },
    "language_info": {
      "codemirror_mode": {
        "name": "ipython",
        "version": 3
      },
      "file_extension": ".py",
      "mimetype": "text/x-python",
      "name": "python",
      "nbconvert_exporter": "python",
      "pygments_lexer": "ipython3",
      "version": "3.7.12"
    }
  },
  "nbformat": 4,
  "nbformat_minor": 0
}